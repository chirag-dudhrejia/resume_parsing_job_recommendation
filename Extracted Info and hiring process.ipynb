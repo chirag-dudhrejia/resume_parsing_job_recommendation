{
 "cells": [
  {
   "cell_type": "markdown",
   "id": "25904311",
   "metadata": {},
   "source": [
    "# Extracting Text from Resumes\n",
    "The first step in resume parsing is to extract the text from resumes in various formats, such as PDF or Word documents. We’ll be using the pdfminer.six library to extract text from PDF resumes. Here’s a function that takes a PDF file path as input and returns the extracted text:"
   ]
  },
  {
   "cell_type": "code",
   "execution_count": 1,
   "id": "491c21f0",
   "metadata": {},
   "outputs": [
    {
     "name": "stdout",
     "output_type": "stream",
     "text": [
      "Defaulting to user installation because normal site-packages is not writeable\n",
      "Collecting pdfminer.six\n",
      "  Obtaining dependency information for pdfminer.six from https://files.pythonhosted.org/packages/67/7d/44d6b90e5a293d3a975cefdc4e12a932ebba814995b2a07e37e599dd27c6/pdfminer.six-20240706-py3-none-any.whl.metadata\n",
      "  Downloading pdfminer.six-20240706-py3-none-any.whl.metadata (4.1 kB)\n",
      "Requirement already satisfied: charset-normalizer>=2.0.0 in c:\\programdata\\anaconda3\\lib\\site-packages (from pdfminer.six) (2.0.4)\n",
      "Requirement already satisfied: cryptography>=36.0.0 in c:\\programdata\\anaconda3\\lib\\site-packages (from pdfminer.six) (41.0.2)\n",
      "Requirement already satisfied: cffi>=1.12 in c:\\programdata\\anaconda3\\lib\\site-packages (from cryptography>=36.0.0->pdfminer.six) (1.15.1)\n",
      "Requirement already satisfied: pycparser in c:\\programdata\\anaconda3\\lib\\site-packages (from cffi>=1.12->cryptography>=36.0.0->pdfminer.six) (2.21)\n",
      "Downloading pdfminer.six-20240706-py3-none-any.whl (5.6 MB)\n",
      "   ---------------------------------------- 0.0/5.6 MB ? eta -:--:--\n",
      "   ---------------------------------------- 0.0/5.6 MB ? eta -:--:--\n",
      "   ---------------------------------------- 0.0/5.6 MB ? eta -:--:--\n",
      "   ---------------------------------------- 0.0/5.6 MB ? eta -:--:--\n",
      "   ---------------------------------------- 0.0/5.6 MB ? eta -:--:--\n",
      "   ---------------------------------------- 0.0/5.6 MB ? eta -:--:--\n",
      "    --------------------------------------- 0.1/5.6 MB 573.4 kB/s eta 0:00:10\n",
      "    --------------------------------------- 0.1/5.6 MB 573.4 kB/s eta 0:00:10\n",
      "    --------------------------------------- 0.1/5.6 MB 573.4 kB/s eta 0:00:10\n",
      "    --------------------------------------- 0.1/5.6 MB 573.4 kB/s eta 0:00:10\n",
      "    --------------------------------------- 0.1/5.6 MB 290.5 kB/s eta 0:00:20\n",
      "    --------------------------------------- 0.1/5.6 MB 290.5 kB/s eta 0:00:20\n",
      "    --------------------------------------- 0.1/5.6 MB 290.5 kB/s eta 0:00:20\n",
      "   - -------------------------------------- 0.2/5.6 MB 420.8 kB/s eta 0:00:13\n",
      "   - -------------------------------------- 0.2/5.6 MB 401.2 kB/s eta 0:00:14\n",
      "   - -------------------------------------- 0.2/5.6 MB 401.2 kB/s eta 0:00:14\n",
      "   - -------------------------------------- 0.2/5.6 MB 401.2 kB/s eta 0:00:14\n",
      "   -- ------------------------------------- 0.3/5.6 MB 463.3 kB/s eta 0:00:12\n",
      "   -- ------------------------------------- 0.3/5.6 MB 463.3 kB/s eta 0:00:12\n",
      "   -- ------------------------------------- 0.3/5.6 MB 463.3 kB/s eta 0:00:12\n",
      "   -- ------------------------------------- 0.4/5.6 MB 521.4 kB/s eta 0:00:10\n",
      "   -- ------------------------------------- 0.4/5.6 MB 521.4 kB/s eta 0:00:10\n",
      "   -- ------------------------------------- 0.4/5.6 MB 521.4 kB/s eta 0:00:10\n",
      "   -- ------------------------------------- 0.4/5.6 MB 521.4 kB/s eta 0:00:10\n",
      "   -- ------------------------------------- 0.4/5.6 MB 436.7 kB/s eta 0:00:12\n",
      "   --- ------------------------------------ 0.5/5.6 MB 512.0 kB/s eta 0:00:10\n",
      "   --- ------------------------------------ 0.5/5.6 MB 512.0 kB/s eta 0:00:10\n",
      "   --- ------------------------------------ 0.5/5.6 MB 464.2 kB/s eta 0:00:11\n",
      "   ---- ----------------------------------- 0.6/5.6 MB 486.8 kB/s eta 0:00:11\n",
      "   ---- ----------------------------------- 0.6/5.6 MB 486.8 kB/s eta 0:00:11\n",
      "   ---- ----------------------------------- 0.6/5.6 MB 486.8 kB/s eta 0:00:11\n",
      "   ---- ----------------------------------- 0.6/5.6 MB 486.8 kB/s eta 0:00:11\n",
      "   ---- ----------------------------------- 0.6/5.6 MB 486.8 kB/s eta 0:00:11\n",
      "   ---- ----------------------------------- 0.6/5.6 MB 444.0 kB/s eta 0:00:12\n",
      "   ---- ----------------------------------- 0.7/5.6 MB 470.0 kB/s eta 0:00:11\n",
      "   ---- ----------------------------------- 0.7/5.6 MB 470.0 kB/s eta 0:00:11\n",
      "   ---- ----------------------------------- 0.7/5.6 MB 470.0 kB/s eta 0:00:11\n",
      "   ----- ---------------------------------- 0.7/5.6 MB 447.8 kB/s eta 0:00:11\n",
      "   ----- ---------------------------------- 0.8/5.6 MB 504.1 kB/s eta 0:00:10\n",
      "   ----- ---------------------------------- 0.8/5.6 MB 504.1 kB/s eta 0:00:10\n",
      "   ----- ---------------------------------- 0.8/5.6 MB 504.1 kB/s eta 0:00:10\n",
      "   ------ --------------------------------- 0.8/5.6 MB 471.2 kB/s eta 0:00:11\n",
      "   ------ --------------------------------- 0.8/5.6 MB 471.2 kB/s eta 0:00:11\n",
      "   ------ --------------------------------- 0.8/5.6 MB 471.2 kB/s eta 0:00:11\n",
      "   ------ --------------------------------- 0.9/5.6 MB 468.8 kB/s eta 0:00:11\n",
      "   ------ --------------------------------- 0.9/5.6 MB 468.8 kB/s eta 0:00:11\n",
      "   ------ --------------------------------- 0.9/5.6 MB 468.8 kB/s eta 0:00:11\n",
      "   ------ --------------------------------- 0.9/5.6 MB 468.8 kB/s eta 0:00:11\n",
      "   ------ --------------------------------- 0.9/5.6 MB 468.8 kB/s eta 0:00:11\n",
      "   ------- -------------------------------- 1.1/5.6 MB 492.6 kB/s eta 0:00:10\n",
      "   ------- -------------------------------- 1.1/5.6 MB 486.7 kB/s eta 0:00:10\n",
      "   ------- -------------------------------- 1.1/5.6 MB 486.7 kB/s eta 0:00:10\n",
      "   ------- -------------------------------- 1.1/5.6 MB 486.7 kB/s eta 0:00:10\n",
      "   ------- -------------------------------- 1.1/5.6 MB 486.7 kB/s eta 0:00:10\n",
      "   ------- -------------------------------- 1.1/5.6 MB 469.3 kB/s eta 0:00:10\n",
      "   ------- -------------------------------- 1.1/5.6 MB 469.3 kB/s eta 0:00:10\n",
      "   -------- ------------------------------- 1.2/5.6 MB 496.8 kB/s eta 0:00:09\n",
      "   -------- ------------------------------- 1.2/5.6 MB 491.5 kB/s eta 0:00:09\n",
      "   -------- ------------------------------- 1.2/5.6 MB 491.5 kB/s eta 0:00:09\n",
      "   -------- ------------------------------- 1.2/5.6 MB 491.5 kB/s eta 0:00:09\n",
      "   --------- ------------------------------ 1.4/5.6 MB 523.4 kB/s eta 0:00:09\n",
      "   --------- ------------------------------ 1.4/5.6 MB 524.1 kB/s eta 0:00:09\n",
      "   --------- ------------------------------ 1.4/5.6 MB 524.1 kB/s eta 0:00:09\n",
      "   --------- ------------------------------ 1.4/5.6 MB 524.1 kB/s eta 0:00:09\n",
      "   ---------- ----------------------------- 1.5/5.6 MB 524.2 kB/s eta 0:00:08\n",
      "   ----------- ---------------------------- 1.6/5.6 MB 547.3 kB/s eta 0:00:08\n",
      "   ----------- ---------------------------- 1.6/5.6 MB 547.3 kB/s eta 0:00:08\n",
      "   ----------- ---------------------------- 1.6/5.6 MB 540.2 kB/s eta 0:00:08\n",
      "   ----------- ---------------------------- 1.6/5.6 MB 541.5 kB/s eta 0:00:08\n",
      "   ----------- ---------------------------- 1.6/5.6 MB 541.5 kB/s eta 0:00:08\n",
      "   ----------- ---------------------------- 1.6/5.6 MB 541.5 kB/s eta 0:00:08\n",
      "   ----------- ---------------------------- 1.6/5.6 MB 524.3 kB/s eta 0:00:08\n",
      "   ----------- ---------------------------- 1.6/5.6 MB 524.3 kB/s eta 0:00:08\n",
      "   ------------ --------------------------- 1.8/5.6 MB 547.6 kB/s eta 0:00:08\n",
      "   ------------- -------------------------- 1.8/5.6 MB 558.1 kB/s eta 0:00:07\n",
      "   ------------- -------------------------- 1.8/5.6 MB 558.5 kB/s eta 0:00:07\n",
      "   ------------- -------------------------- 1.8/5.6 MB 558.5 kB/s eta 0:00:07\n",
      "   ------------- -------------------------- 1.9/5.6 MB 559.0 kB/s eta 0:00:07\n",
      "   -------------- ------------------------- 2.0/5.6 MB 589.5 kB/s eta 0:00:07\n",
      "   -------------- ------------------------- 2.0/5.6 MB 589.5 kB/s eta 0:00:07\n",
      "   -------------- ------------------------- 2.0/5.6 MB 589.5 kB/s eta 0:00:07\n",
      "   --------------- ------------------------ 2.2/5.6 MB 607.0 kB/s eta 0:00:06\n",
      "   --------------- ------------------------ 2.2/5.6 MB 612.7 kB/s eta 0:00:06\n",
      "   --------------- ------------------------ 2.2/5.6 MB 612.7 kB/s eta 0:00:06\n",
      "   --------------- ------------------------ 2.2/5.6 MB 612.7 kB/s eta 0:00:06\n",
      "   --------------- ------------------------ 2.2/5.6 MB 592.8 kB/s eta 0:00:06\n",
      "   --------------- ------------------------ 2.2/5.6 MB 592.8 kB/s eta 0:00:06\n",
      "   --------------- ------------------------ 2.2/5.6 MB 592.8 kB/s eta 0:00:06\n",
      "   ---------------- ----------------------- 2.4/5.6 MB 605.7 kB/s eta 0:00:06\n",
      "   ----------------- ---------------------- 2.4/5.6 MB 611.0 kB/s eta 0:00:06\n",
      "   ----------------- ---------------------- 2.4/5.6 MB 611.0 kB/s eta 0:00:06\n",
      "   ----------------- ---------------------- 2.5/5.6 MB 604.9 kB/s eta 0:00:06\n",
      "   ----------------- ---------------------- 2.5/5.6 MB 604.9 kB/s eta 0:00:06\n",
      "   ----------------- ---------------------- 2.5/5.6 MB 604.9 kB/s eta 0:00:06\n",
      "   ------------------ --------------------- 2.5/5.6 MB 599.3 kB/s eta 0:00:06\n",
      "   ------------------- -------------------- 2.7/5.6 MB 633.5 kB/s eta 0:00:05\n",
      "   ------------------- -------------------- 2.7/5.6 MB 633.5 kB/s eta 0:00:05\n",
      "   ------------------- -------------------- 2.7/5.6 MB 633.5 kB/s eta 0:00:05\n",
      "   ------------------- -------------------- 2.8/5.6 MB 629.6 kB/s eta 0:00:05\n",
      "   ------------------- -------------------- 2.8/5.6 MB 629.6 kB/s eta 0:00:05\n",
      "   ------------------- -------------------- 2.8/5.6 MB 629.6 kB/s eta 0:00:05\n",
      "   -------------------- ------------------- 2.9/5.6 MB 641.7 kB/s eta 0:00:05\n",
      "   -------------------- ------------------- 2.9/5.6 MB 641.8 kB/s eta 0:00:05\n",
      "   -------------------- ------------------- 2.9/5.6 MB 641.8 kB/s eta 0:00:05\n",
      "   --------------------- ------------------ 3.0/5.6 MB 637.7 kB/s eta 0:00:05\n",
      "   --------------------- ------------------ 3.0/5.6 MB 642.2 kB/s eta 0:00:05\n",
      "   ---------------------- ----------------- 3.2/5.6 MB 668.2 kB/s eta 0:00:04\n",
      "   ---------------------- ----------------- 3.2/5.6 MB 668.2 kB/s eta 0:00:04\n",
      "   ----------------------- ---------------- 3.2/5.6 MB 665.9 kB/s eta 0:00:04\n",
      "   ----------------------- ---------------- 3.4/5.6 MB 686.9 kB/s eta 0:00:04\n",
      "   ----------------------- ---------------- 3.4/5.6 MB 686.9 kB/s eta 0:00:04\n",
      "   ------------------------ --------------- 3.4/5.6 MB 682.0 kB/s eta 0:00:04\n",
      "   ------------------------- -------------- 3.6/5.6 MB 722.7 kB/s eta 0:00:03\n",
      "   ------------------------- -------------- 3.6/5.6 MB 722.7 kB/s eta 0:00:03\n",
      "   ------------------------- -------------- 3.6/5.6 MB 722.7 kB/s eta 0:00:03\n",
      "   ------------------------- -------------- 3.6/5.6 MB 722.7 kB/s eta 0:00:03\n",
      "   ------------------------- -------------- 3.6/5.6 MB 702.9 kB/s eta 0:00:03\n",
      "   ------------------------- -------------- 3.6/5.6 MB 702.9 kB/s eta 0:00:03\n",
      "   -------------------------- ------------- 3.7/5.6 MB 701.7 kB/s eta 0:00:03\n",
      "   --------------------------- ------------ 3.9/5.6 MB 732.3 kB/s eta 0:00:03\n",
      "   --------------------------- ------------ 3.9/5.6 MB 732.3 kB/s eta 0:00:03\n",
      "   ---------------------------- ----------- 3.9/5.6 MB 721.2 kB/s eta 0:00:03\n",
      "   ---------------------------- ----------- 4.0/5.6 MB 720.6 kB/s eta 0:00:03\n",
      "   ---------------------------- ----------- 4.0/5.6 MB 720.6 kB/s eta 0:00:03\n",
      "   ---------------------------- ----------- 4.0/5.6 MB 720.6 kB/s eta 0:00:03\n",
      "   ----------------------------- ---------- 4.2/5.6 MB 742.9 kB/s eta 0:00:02\n",
      "   ----------------------------- ---------- 4.2/5.6 MB 742.9 kB/s eta 0:00:02\n",
      "   ----------------------------- ---------- 4.2/5.6 MB 742.9 kB/s eta 0:00:02\n",
      "   ------------------------------ --------- 4.3/5.6 MB 742.3 kB/s eta 0:00:02\n",
      "   ------------------------------- -------- 4.5/5.6 MB 771.9 kB/s eta 0:00:02\n",
      "   -------------------------------- ------- 4.5/5.6 MB 773.1 kB/s eta 0:00:02\n",
      "   -------------------------------- ------- 4.5/5.6 MB 773.1 kB/s eta 0:00:02\n",
      "   -------------------------------- ------- 4.5/5.6 MB 773.1 kB/s eta 0:00:02\n",
      "   -------------------------------- ------- 4.5/5.6 MB 758.3 kB/s eta 0:00:02\n",
      "   -------------------------------- ------- 4.6/5.6 MB 767.7 kB/s eta 0:00:02\n",
      "   -------------------------------- ------- 4.6/5.6 MB 767.7 kB/s eta 0:00:02\n",
      "   --------------------------------- ------ 4.6/5.6 MB 759.2 kB/s eta 0:00:02\n",
      "   --------------------------------- ------ 4.7/5.6 MB 756.6 kB/s eta 0:00:02\n",
      "   ----------------------------------- ---- 5.0/5.6 MB 798.6 kB/s eta 0:00:01\n",
      "   ----------------------------------- ---- 5.0/5.6 MB 798.6 kB/s eta 0:00:01\n",
      "   ----------------------------------- ---- 5.0/5.6 MB 798.6 kB/s eta 0:00:01\n",
      "   ----------------------------------- ---- 5.0/5.6 MB 798.6 kB/s eta 0:00:01\n",
      "   ----------------------------------- ---- 5.0/5.6 MB 798.6 kB/s eta 0:00:01\n",
      "   ----------------------------------- ---- 5.0/5.6 MB 798.6 kB/s eta 0:00:01\n",
      "   ------------------------------------ --- 5.1/5.6 MB 779.8 kB/s eta 0:00:01\n",
      "   ------------------------------------ --- 5.1/5.6 MB 779.5 kB/s eta 0:00:01\n",
      "   ------------------------------------- -- 5.3/5.6 MB 802.9 kB/s eta 0:00:01\n",
      "   -------------------------------------- - 5.5/5.6 MB 821.9 kB/s eta 0:00:01\n",
      "   -------------------------------------- - 5.5/5.6 MB 821.9 kB/s eta 0:00:01\n",
      "   -------------------------------------- - 5.5/5.6 MB 821.9 kB/s eta 0:00:01\n",
      "   ---------------------------------------  5.5/5.6 MB 813.8 kB/s eta 0:00:01\n",
      "   ---------------------------------------- 5.6/5.6 MB 822.7 kB/s eta 0:00:00\n",
      "Installing collected packages: pdfminer.six\n",
      "Successfully installed pdfminer.six-20240706\n"
     ]
    }
   ],
   "source": [
    "!pip install pdfminer.six"
   ]
  },
  {
   "cell_type": "code",
   "execution_count": 2,
   "id": "53e123ef",
   "metadata": {},
   "outputs": [
    {
     "data": {
      "text/plain": [
       "\"Gujarat, India\\n\\nguptadarshantech@gmail.com\\n\\n9265740048\\n\\nin/darshanguptatech/\\n\\nbento.me/darshanguptadesign\\n\\nDarshan Gupta\\n\\nSUMMARY\\n\\nExperienced community manager with 1 year of experience in community management and a strong understanding of UI/UX principles. Skilled \\n\\nin creating engaging online communities and fostering positive user experiences. \\n\\nEXPERIENCE\\n\\nCommunity Lead / Founder\\nCampusTechies\\n\\nFebruary 2023 - Present Remote\\nUtilized skills in community building, event organization, and technical knowledge sharing to create a platform for students to collaborate on \\n\\n•\\n\\n,\\n\\nvarious projects.\\n\\n•\\n\\nEstablished community partnerships in 10+ hackathons, 5+ tech conferences, and 25+ tech meetups, promoting knowledge-sharing and \\n\\nnetworking opportunities.\\n\\n•\\n\\nEstablished and curated a community of 500+ students to foster learning and collaboration.\\n\\nUX/UI Design Intern\\nSolGuruz LLP\\n\\n•\\n\\n•\\n\\n•\\n\\nContributing to user-centered design projects from concept to delivery. \\n\\nCollaborating with cross-functional teams to create intuitive digital experiences. \\n\\nUtilizing user research, wireframing, and prototyping to enhance product usability.\\n\\nJanuary 2024 - April 2024 Ahmedabad, India.\\n\\n,\\n\\nUX Design Intern\\nTechnowire Data Science Ltd. (Finanvo.in)\\n\\nJanuary 2024 - February 2024 Ahmedabad\\n\\n,\\n\\n•\\n\\n•\\n\\n•\\n\\nEnhanced website usability by implementing new UI/UX principles, leading to an increase in user engagement.\\n\\nDeveloped a user-friendly UI for Finanvo's mobile application.\\n\\nEnhancing user experience and facilitating seamless access to financial information.\\n\\nWeb Designer Intern\\nRankbit Tech Pvt. Ltd.\\n\\n•\\n\\n•\\n\\n•\\n\\nJuly 2023 - September 2023 Ahmedabad\\nMastered Web Design fundamentals including HTML, CSS, and Progressive Web App (PWA) principles through self-study and online courses.\\n\\n,\\n\\nUtilized HTML, CSS, and Figma to refine User Interface and web design skills.\\n\\nDesigned and implemented a progressive web app (PWA) for seamless user experience and cross-platform accessibility for the \\n\\nCampusTechies Community. \\n\\nPROJECTS\\n\\nFinanvo App UI\\nTechnowire Data Science Ltd. • January 2024 - February 2024\\n•\\n\\nDeveloped an intuitive and user-friendly User Interface for Finanvo Mobile application using Figma.\\n\\n•\\n\\nEnhanced Finanvo’s logo design by incorporating modern aesthetics and improved brand recognition, increasing 80% customer engagement \\n\\nwith the brand.\\n\\n•\\n\\nEmployed problem-solving strategies to identify and resolve critical issues, resulting in a 15% improvement in the overall user interface \\n\\nfunctionality.\\n\\nSYT Travel Tech\\nWebEarl Technologies • December 2023 - December 2023\\n•\\n\\nDesigned a user-friendly web app interface for SYT Travel Tech, improving the desktop view and enhancing user experience.\\n\\nCampusTechies PWA & UI\\nRankbit Tech Pvt. Ltd.  • July 2023 - September 2023\\n\\n•\\n\\n•\\n\\nUtilized proficiency in UI design tools and principles to ensure a user-friendly and visually appealing interface for CampusTechies Website.\\n\\nDeveloped a Progressive Web Application (PWA) for CampusTechies, resulting in an increase in user engagement.\\n\\nEDUCATION\\n\\nBachelor of Engineering in Information Technology \\nAhmedabad Institute of Technology  • Ahmedabad, Gujarat, INDIA • 2024\\n\\n.\\n\\n.\\n\\n\\x0cHigher Secondary School\\nSahjanand School of Achiever • Gandhinagar, Gujarat, INDIA • 2020\\n\\nSecondary School \\nSt. Anee's English Medium High School • Kalol, Gujarat, INDIA • 2018\\n\\nCERTIFICATIONS\\n\\nEcell Campus Ambassador\\nEcell IIT Bombay • 2023\\n•\\n\\nFor Serving as Campus Ambassador Intern of the Entrepreneurship Cell, IIT Bombay.\\n\\nGet Started with Figma \\nCoursera  • 2022\\n\\nINVOLVEMENT\\n\\nChapter Lead (Contributor)\\nGandhinagar, Gujarat • SuperTeam India • February 2024 - Present\\n•\\n\\nCoordinated with industry experts to deliver informative workshops and panel discussions to enhance attendees' understanding of Web3 \\n\\ntechnologies.\\n\\nDesign Lead\\nAhmedabad, Gujarat  • GDSC AIT • July 2023 - Present\\n•\\n\\nCollaborated closely with team members to gather feedback and iterate on designs, ensuring timely delivery of all creatives for events and \\n\\ninitiatives.\\n\\nCommunity Organizer / Founder\\nRemote • CampusTechies • February 2023 - Present\\n•\\n\\nOrganized and led workshops to assist over 200+ students and professionals in enhancing technical skills and gaining guidance on industry \\n\\ntrends.\\n\\n•\\n\\nLeveraged proficiency in event planning, stakeholder coordination, and community engagement to oversee the organization of Meetups, \\n\\nHackathons, Tech Conferences, and collaborations.\\n\\nHackathon Evangelist\\nIndia  • Hack This Fall • December 2023 - February 2024\\n•\\n\\nFacilitated and engaged with 500+ participants throughout the hackathon event, ensuring smooth logistics and participant satisfaction.\\n\\nSKILLS\\n\\nSoftware: Adobe Illustrator, Figma, Framer, Canva, Adobe CC Express, Microsoft Office.\\nHard Skills: UI UX, Ux Designer, Wireframe, Prototypes, Community Management.\\n\\n.\\n\\n.\\n\\n\\x0c\""
      ]
     },
     "execution_count": 2,
     "metadata": {},
     "output_type": "execute_result"
    }
   ],
   "source": [
    "import re\n",
    "from pdfminer.high_level import extract_text\n",
    "\n",
    "def extract_text_from_pdf(pdf_path):\n",
    "    return extract_text(pdf_path)\n",
    "\n",
    "\n",
    "resume_path = \"resumes/DarshanGupta-Resume.pdf\"\n",
    "text = extract_text_from_pdf(resume_path)\n",
    "text"
   ]
  },
  {
   "cell_type": "markdown",
   "id": "3869cab2",
   "metadata": {},
   "source": [
    "# Extracting Contact Information\n",
    "\n",
    "\n",
    "Contact information, including phone numbers, email addresses, and physical addresses, is crucial for reaching out to potential candidates. Extracting this information accurately is an essential part of resume parsing. We can use regular expressions to match patterns and extract contact information.\n",
    "\n",
    "# Function to Extract\n",
    "\n",
    "\n",
    "Let’s define a function to extract a contact number from the resume text:"
   ]
  },
  {
   "cell_type": "code",
   "execution_count": 3,
   "id": "4795cd19",
   "metadata": {},
   "outputs": [
    {
     "data": {
      "text/plain": [
       "'9265740048'"
      ]
     },
     "execution_count": 3,
     "metadata": {},
     "output_type": "execute_result"
    }
   ],
   "source": [
    "import re\n",
    "\n",
    "def extract_contact_number_from_resume(text):\n",
    "    contact_number = None\n",
    "\n",
    "    # Use regex pattern to find a potential contact number\n",
    "    pattern = r\"\\b(?:\\+?\\d{1,3}[-.\\s]?)?\\(?\\d{3}\\)?[-.\\s]?\\d{3}[-.\\s]?\\d{4}\\b\"\n",
    "    match = re.search(pattern, text)\n",
    "    if match:\n",
    "        contact_number = match.group()\n",
    "\n",
    "    return contact_number\n",
    "\n",
    "phone = extract_contact_number_from_resume(text)\n",
    "phone"
   ]
  },
  {
   "cell_type": "markdown",
   "id": "73ce6ac7",
   "metadata": {},
   "source": [
    "# Extracting Email Address\n",
    "In addition to the contact number, extracting the email address is vital for communication with candidates. We can again use regular expressions to match patterns and extract the email address. Here’s a function to extract the email address from the resume text:"
   ]
  },
  {
   "cell_type": "code",
   "execution_count": 4,
   "id": "1bc1e09c",
   "metadata": {},
   "outputs": [
    {
     "data": {
      "text/plain": [
       "'guptadarshantech@gmail.com'"
      ]
     },
     "execution_count": 4,
     "metadata": {},
     "output_type": "execute_result"
    }
   ],
   "source": [
    "import re\n",
    "\n",
    "def extract_email_from_resume(text):\n",
    "    email = None\n",
    "\n",
    "    # Use regex pattern to find a potential email address\n",
    "    pattern = r\"\\b[A-Za-z0-9._%+-]+@[A-Za-z0-9.-]+\\.[A-Za-z]{2,}\\b\"\n",
    "    match = re.search(pattern, text)\n",
    "    if match:\n",
    "        email = match.group()\n",
    "\n",
    "    return email\n",
    "\n",
    "email = extract_email_from_resume(text)\n",
    "email"
   ]
  },
  {
   "cell_type": "markdown",
   "id": "a74a16b8",
   "metadata": {},
   "source": [
    "# Extracting Skills\n",
    "Identifying the skills mentioned in a resume is crucial for determining the candidate’s qualifications. We can create a list of relevant skills and match them against the resume text to extract the mentioned skills. Let’s define a function to extract skills from the resume text:"
   ]
  },
  {
   "cell_type": "code",
   "execution_count": 5,
   "id": "dbb25dda",
   "metadata": {},
   "outputs": [
    {
     "name": "stdout",
     "output_type": "stream",
     "text": [
      "Skills: ['HTML', 'CSS', 'Research', 'Wireframing', 'Prototyping', 'Illustrator', 'Figma', 'Logistics', 'Wireframing', 'Prototyping', 'Web3']\n"
     ]
    }
   ],
   "source": [
    "import re\n",
    "\n",
    "def extract_skills_from_resume(text, skills_list):\n",
    "    skills = []\n",
    "\n",
    "    for skill in skills_list:\n",
    "        pattern = r\"\\b{}\\b\".format(re.escape(skill))\n",
    "        match = re.search(pattern, text, re.IGNORECASE)\n",
    "        if match:\n",
    "            skills.append(skill)\n",
    "\n",
    "    return skills\n",
    "\n",
    "\n",
    "# List of predefined skills\n",
    "skills_list = [\n",
    "    'Python', 'Data Analysis', 'Machine Learning', 'Communication', 'Project Management', 'Deep Learning', 'SQL', 'Tableau',\n",
    "    'Java', 'C++', 'JavaScript', 'HTML', 'CSS', 'React', 'Angular', 'Node.js', 'MongoDB', 'Express.js', 'Git',\n",
    "    'Research', 'Statistics', 'Quantitative Analysis', 'Qualitative Analysis', 'SPSS', 'R', 'Data Visualization', 'Matplotlib',\n",
    "    'Seaborn', 'Plotly', 'Pandas', 'Numpy', 'Scikit-learn', 'TensorFlow', 'Keras', 'PyTorch', 'NLTK', 'Text Mining',\n",
    "    'Natural Language Processing', 'Computer Vision', 'Image Processing', 'OCR', 'Speech Recognition', 'Recommendation Systems',\n",
    "    'Collaborative Filtering', 'Content-Based Filtering', 'Reinforcement Learning', 'Neural Networks', 'Convolutional Neural Networks',\n",
    "    'Recurrent Neural Networks', 'Generative Adversarial Networks', 'XGBoost', 'Random Forest', 'Decision Trees', 'Support Vector Machines',\n",
    "    'Linear Regression', 'Logistic Regression', 'K-Means Clustering', 'Hierarchical Clustering', 'DBSCAN', 'Association Rule Learning',\n",
    "    'Apache Hadoop', 'Apache Spark', 'MapReduce', 'Hive', 'HBase', 'Apache Kafka', 'Data Warehousing', 'ETL', 'Big Data Analytics',\n",
    "    'Cloud Computing', 'Amazon Web Services (AWS)', 'Microsoft Azure', 'Google Cloud Platform (GCP)', 'Docker', 'Kubernetes', 'Linux',\n",
    "    'Shell Scripting', 'Cybersecurity', 'Network Security', 'Penetration Testing', 'Firewalls', 'Encryption', 'Malware Analysis',\n",
    "    'Digital Forensics', 'CI/CD', 'DevOps', 'Agile Methodology', 'Scrum', 'Kanban', 'Continuous Integration', 'Continuous Deployment',\n",
    "    'Software Development', 'Web Development', 'Mobile Development', 'Backend Development', 'Frontend Development', 'Full-Stack Development',\n",
    "    'UI/UX Design', 'Responsive Design', 'Wireframing', 'Prototyping', 'User Testing', 'Adobe Creative Suite', 'Photoshop', 'Illustrator',\n",
    "    'InDesign', 'Figma', 'Sketch', 'Zeplin', 'InVision', 'Product Management', 'Market Research', 'Customer Development', 'Lean Startup',\n",
    "    'Business Development', 'Sales', 'Marketing', 'Content Marketing', 'Social Media Marketing', 'Email Marketing', 'SEO', 'SEM', 'PPC',\n",
    "    'Google Analytics', 'Facebook Ads', 'LinkedIn Ads', 'Lead Generation', 'Customer Relationship Management (CRM)', 'Salesforce',\n",
    "    'HubSpot', 'Zendesk', 'Intercom', 'Customer Support', 'Technical Support', 'Troubleshooting', 'Ticketing Systems', 'ServiceNow',\n",
    "    'ITIL', 'Quality Assurance', 'Manual Testing', 'Automated Testing', 'Selenium', 'JUnit', 'Load Testing', 'Performance Testing',\n",
    "    'Regression Testing', 'Black Box Testing', 'White Box Testing', 'API Testing', 'Mobile Testing', 'Usability Testing', 'Accessibility Testing',\n",
    "    'Cross-Browser Testing', 'Agile Testing', 'User Acceptance Testing', 'Software Documentation', 'Technical Writing', 'Copywriting',\n",
    "    'Editing', 'Proofreading', 'Content Management Systems (CMS)', 'WordPress', 'Joomla', 'Drupal', 'Magento', 'Shopify', 'E-commerce',\n",
    "    'Payment Gateways', 'Inventory Management', 'Supply Chain Management', 'Logistics', 'Procurement', 'ERP Systems', 'SAP', 'Oracle',\n",
    "    'Microsoft Dynamics', 'Tableau', 'Power BI', 'QlikView', 'Looker', 'Data Warehousing', 'ETL', 'Data Engineering', 'Data Governance',\n",
    "    'Data Quality', 'Master Data Management', 'Predictive Analytics', 'Prescriptive Analytics', 'Descriptive Analytics', 'Business Intelligence',\n",
    "    'Dashboarding', 'Reporting', 'Data Mining', 'Web Scraping', 'API Integration', 'RESTful APIs', 'GraphQL', 'SOAP', 'Microservices',\n",
    "    'Serverless Architecture', 'Lambda Functions', 'Event-Driven Architecture', 'Message Queues', 'GraphQL', 'Socket.io', 'WebSockets'\n",
    "'Ruby', 'Ruby on Rails', 'PHP', 'Symfony', 'Laravel', 'CakePHP', 'Zend Framework', 'ASP.NET', 'C#', 'VB.NET', 'ASP.NET MVC', 'Entity Framework',\n",
    "    'Spring', 'Hibernate', 'Struts', 'Kotlin', 'Swift', 'Objective-C', 'iOS Development', 'Android Development', 'Flutter', 'React Native', 'Ionic',\n",
    "    'Mobile UI/UX Design', 'Material Design', 'SwiftUI', 'RxJava', 'RxSwift', 'Django', 'Flask', 'FastAPI', 'Falcon', 'Tornado', 'WebSockets',\n",
    "    'GraphQL', 'RESTful Web Services', 'SOAP', 'Microservices Architecture', 'Serverless Computing', 'AWS Lambda', 'Google Cloud Functions',\n",
    "    'Azure Functions', 'Server Administration', 'System Administration', 'Network Administration', 'Database Administration', 'MySQL', 'PostgreSQL',\n",
    "    'SQLite', 'Microsoft SQL Server', 'Oracle Database', 'NoSQL', 'MongoDB', 'Cassandra', 'Redis', 'Elasticsearch', 'Firebase', 'Google Analytics',\n",
    "    'Google Tag Manager', 'Adobe Analytics', 'Marketing Automation', 'Customer Data Platforms', 'Segment', 'Salesforce Marketing Cloud', 'HubSpot CRM',\n",
    "    'Zapier', 'IFTTT', 'Workflow Automation', 'Robotic Process Automation (RPA)', 'UI Automation', 'Natural Language Generation (NLG)',\n",
    "    'Virtual Reality (VR)', 'Augmented Reality (AR)', 'Mixed Reality (MR)', 'Unity', 'Unreal Engine', '3D Modeling', 'Animation', 'Motion Graphics',\n",
    "    'Game Design', 'Game Development', 'Level Design', 'Unity3D', 'Unreal Engine 4', 'Blender', 'Maya', 'Adobe After Effects', 'Adobe Premiere Pro',\n",
    "    'Final Cut Pro', 'Video Editing', 'Audio Editing', 'Sound Design', 'Music Production', 'Digital Marketing', 'Content Strategy', 'Conversion Rate Optimization (CRO)',\n",
    "    'A/B Testing', 'Customer Experience (CX)', 'User Experience (UX)', 'User Interface (UI)', 'Persona Development', 'User Journey Mapping', 'Information Architecture (IA)',\n",
    "    'Wireframing', 'Prototyping', 'Usability Testing', 'Accessibility Compliance', 'Internationalization (I18n)', 'Localization (L10n)', 'Voice User Interface (VUI)',\n",
    "    'Chatbots', 'Natural Language Understanding (NLU)', 'Speech Synthesis', 'Emotion Detection', 'Sentiment Analysis', 'Image Recognition', 'Object Detection',\n",
    "    'Facial Recognition', 'Gesture Recognition', 'Document Recognition', 'Fraud Detection', 'Cyber Threat Intelligence', 'Security Information and Event Management (SIEM)',\n",
    "    'Vulnerability Assessment', 'Incident Response', 'Forensic Analysis', 'Security Operations Center (SOC)', 'Identity and Access Management (IAM)', 'Single Sign-On (SSO)',\n",
    "    'Multi-Factor Authentication (MFA)', 'Blockchain', 'Cryptocurrency', 'Decentralized Finance (DeFi)', 'Smart Contracts', 'Web3', 'Non-Fungible Tokens (NFTs)']\n",
    "\n",
    "extracted_skills = extract_skills_from_resume(text, skills_list)\n",
    "\n",
    "if extracted_skills:\n",
    "    print(\"Skills:\", extracted_skills)\n",
    "else:\n",
    "    print(\"No skills found\")"
   ]
  },
  {
   "cell_type": "markdown",
   "id": "0cfb5931",
   "metadata": {},
   "source": [
    "# Extracting Education\n",
    "Education qualifications play a vital role in the recruitment process. We can match specific education keywords against the resume text to identify the candidate’s educational background. Here’s a function to extract education information from the resume text:"
   ]
  },
  {
   "cell_type": "code",
   "execution_count": 6,
   "id": "544f6bc2",
   "metadata": {},
   "outputs": [
    {
     "name": "stdout",
     "output_type": "stream",
     "text": [
      "Education: ['Information Technology', 'management', 'Entrepreneurship', 'EDUCATION', 'Data Science']\n"
     ]
    }
   ],
   "source": [
    "import re\n",
    "\n",
    "def extract_education_from_resume(text):\n",
    "    education = []\n",
    "\n",
    "    # List of education keywords to match against\n",
    "    education_keywords = [\n",
    "        'Computer Science', 'Information Technology', 'Software Engineering', 'Electrical Engineering', 'Mechanical Engineering', 'Civil Engineering',\n",
    "        'Chemical Engineering', 'Biomedical Engineering', 'Aerospace Engineering', 'Nuclear Engineering', 'Industrial Engineering', 'Systems Engineering',\n",
    "        'Environmental Engineering', 'Petroleum Engineering', 'Geological Engineering', 'Marine Engineering', 'Robotics Engineering', 'Biotechnology',\n",
    "        'Biochemistry', 'Microbiology', 'Genetics', 'Molecular Biology', 'Bioinformatics', 'Neuroscience', 'Biophysics', 'Biostatistics', 'Pharmacology',\n",
    "        'Physiology', 'Anatomy', 'Pathology', 'Immunology', 'Epidemiology', 'Public Health', 'Health Administration', 'Nursing', 'Medicine', 'Dentistry',\n",
    "        'Pharmacy', 'Veterinary Medicine', 'Medical Technology', 'Radiography', 'Physical Therapy', 'Occupational Therapy', 'Speech Therapy', 'Nutrition',\n",
    "        'Sports Science', 'Kinesiology', 'Exercise Physiology', 'Sports Medicine', 'Rehabilitation Science', 'Psychology', 'Counseling', 'Social Work',\n",
    "        'Sociology', 'Anthropology', 'Criminal Justice', 'Political Science', 'International Relations', 'Economics', 'Finance', 'Accounting', 'Business Administration',\n",
    "        'Management', 'Marketing', 'Entrepreneurship', 'Hospitality Management', 'Tourism Management', 'Supply Chain Management', 'Logistics Management',\n",
    "        'Operations Management', 'Human Resource Management', 'Organizational Behavior', 'Project Management', 'Quality Management', 'Risk Management',\n",
    "        'Strategic Management', 'Public Administration', 'Urban Planning', 'Architecture', 'Interior Design', 'Landscape Architecture', 'Fine Arts',\n",
    "        'Visual Arts', 'Graphic Design', 'Fashion Design', 'Industrial Design', 'Product Design', 'Animation', 'Film Studies', 'Media Studies',\n",
    "        'Communication Studies', 'Journalism', 'Broadcasting', 'Creative Writing', 'English Literature', 'Linguistics', 'Translation Studies',\n",
    "        'Foreign Languages', 'Modern Languages', 'Classical Studies', 'History', 'Archaeology', 'Philosophy', 'Theology', 'Religious Studies',\n",
    "        'Ethics', 'Education', 'Early Childhood Education', 'Elementary Education', 'Secondary Education', 'Special Education', 'Higher Education',\n",
    "        'Adult Education', 'Distance Education', 'Online Education', 'Instructional Design', 'Curriculum Development'\n",
    "        'Library Science', 'Information Science', 'Computer Engineering', 'Software Development', 'Cybersecurity', 'Information Security',\n",
    "        'Network Engineering', 'Data Science', 'Data Analytics', 'Business Analytics', 'Operations Research', 'Decision Sciences',\n",
    "        'Human-Computer Interaction', 'User Experience Design', 'User Interface Design', 'Digital Marketing', 'Content Strategy',\n",
    "        'Brand Management', 'Public Relations', 'Corporate Communications', 'Media Production', 'Digital Media', 'Web Development',\n",
    "        'Mobile App Development', 'Game Development', 'Virtual Reality', 'Augmented Reality', 'Blockchain Technology', 'Cryptocurrency',\n",
    "        'Digital Forensics', 'Forensic Science', 'Criminalistics', 'Crime Scene Investigation', 'Emergency Management', 'Fire Science',\n",
    "        'Environmental Science', 'Climate Science', 'Meteorology', 'Geography', 'Geomatics', 'Remote Sensing', 'Geoinformatics',\n",
    "        'Cartography', 'GIS (Geographic Information Systems)', 'Environmental Management', 'Sustainability Studies', 'Renewable Energy',\n",
    "        'Green Technology', 'Ecology', 'Conservation Biology', 'Wildlife Biology', 'Zoology']\n",
    "\n",
    "    for keyword in education_keywords:\n",
    "        pattern = r\"(?i)\\b{}\\b\".format(re.escape(keyword))\n",
    "        match = re.search(pattern, text)\n",
    "        if match:\n",
    "            education.append(match.group())\n",
    "\n",
    "    return education\n",
    "\n",
    "extracted_education = extract_education_from_resume(text)\n",
    "if extracted_education:\n",
    "    print(\"Education:\", extracted_education)\n",
    "else:\n",
    "    print(\"No education information found\")"
   ]
  },
  {
   "cell_type": "markdown",
   "id": "0951159a",
   "metadata": {},
   "source": [
    "# Extracting Name Using spaCy\n",
    "Identifying the candidate’s name from the resume is essential for personalization and identification. We can use spaCy and its pattern matching capabilities to extract the candidate’s name. Let’s define a function to extract the name using spaCy:"
   ]
  },
  {
   "cell_type": "code",
   "execution_count": 7,
   "id": "c9c0bf68",
   "metadata": {},
   "outputs": [
    {
     "name": "stdout",
     "output_type": "stream",
     "text": [
      "Name: Darshan Gupta\n"
     ]
    }
   ],
   "source": [
    "def extract_name_from_resume(text):\n",
    "    name = None\n",
    "\n",
    "    # Use regex pattern to find a potential name\n",
    "    pattern = r\"(\\b[A-Z][a-z]+\\b)\\s(\\b[A-Z][a-z]+\\b)\"\n",
    "    match = re.search(pattern, text)\n",
    "    if match:\n",
    "        name = match.group()\n",
    "\n",
    "    return name\n",
    "\n",
    "name = extract_name_from_resume(text)\n",
    "\n",
    "if name:\n",
    "    print(\"Name:\", name)\n",
    "else:\n",
    "    print(\"Name not found\")"
   ]
  },
  {
   "cell_type": "code",
   "execution_count": null,
   "id": "420503a5",
   "metadata": {},
   "outputs": [],
   "source": []
  }
 ],
 "metadata": {
  "kernelspec": {
   "display_name": "Python 3 (ipykernel)",
   "language": "python",
   "name": "python3"
  },
  "language_info": {
   "codemirror_mode": {
    "name": "ipython",
    "version": 3
   },
   "file_extension": ".py",
   "mimetype": "text/x-python",
   "name": "python",
   "nbconvert_exporter": "python",
   "pygments_lexer": "ipython3",
   "version": "3.11.4"
  }
 },
 "nbformat": 4,
 "nbformat_minor": 5
}
